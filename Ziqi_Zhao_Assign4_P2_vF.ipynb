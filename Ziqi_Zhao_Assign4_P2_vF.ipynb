{
 "cells": [
  {
   "cell_type": "code",
   "execution_count": 185,
   "id": "11df1afc-c95d-40aa-97ab-f26e2c5c9d45",
   "metadata": {},
   "outputs": [],
   "source": [
    "import numpy as np\n",
    "import keras\n",
    "from keras.datasets import imdb\n",
    "from keras import models, layers, regularizers\n",
    "from sklearn.feature_extraction.text import TfidfVectorizer\n",
    "from sklearn.preprocessing import LabelBinarizer\n",
    "from sklearn.model_selection import train_test_split\n",
    "import matplotlib.pyplot as plt\n",
    "\n",
    "# Load the IMDb dataset\n",
    "(train_data, train_labels), (test_data, test_labels) = imdb.load_data(num_words=10000)\n"
   ]
  },
  {
   "cell_type": "code",
   "execution_count": 186,
   "id": "b150883c-5a23-4d54-9320-0a0c6bc16559",
   "metadata": {},
   "outputs": [],
   "source": [
    "# word_index is a dictionary mapping words to an integer index\n",
    "word_index = imdb.get_word_index()\n",
    "# We reverse it, mapping integer indices to words\n",
    "reverse_word_index = dict([(value, key) for (key, value) in word_index.items()])\n",
    "# We decode the review; note that our indices were offset by 3\n",
    "# because 0, 1 and 2 are reserved indices for \"padding\", \"start of sequence\", and \"unknown\".\n",
    "decoded_review = ' '.join([reverse_word_index.get(i - 3, '?') for i in train_data[0]])\n",
    "\n",
    "def decode_review(encoded_review):\n",
    "    return ' '.join([reverse_word_index.get(i - 3, '?') for i in encoded_review])\n",
    "\n",
    "# Decode all reviews to text format\n",
    "train_text = [decode_review(review) for review in train_data]\n",
    "test_text = [decode_review(review) for review in test_data]"
   ]
  },
  {
   "cell_type": "code",
   "execution_count": 187,
   "id": "e65dba7a-d6f8-4ab5-bbd0-14804828ac84",
   "metadata": {},
   "outputs": [],
   "source": [
    "# Use TF-IDF Vectorizer with n-grams\n",
    "vectorizer = TfidfVectorizer(ngram_range=(1, 5), max_features=25000)\n",
    "X_train = vectorizer.fit_transform(train_text)\n",
    "X_test = vectorizer.transform(test_text)"
   ]
  },
  {
   "cell_type": "code",
   "execution_count": 188,
   "id": "299655a0-b36d-448b-ab4d-ea55fc870da1",
   "metadata": {},
   "outputs": [],
   "source": [
    "# Convert labels to numpy arrays\n",
    "y_train = np.array(train_labels)\n",
    "y_test = np.array(test_labels)\n",
    "\n",
    "# Split training data into training and validation sets\n",
    "X_train, X_val, y_train, y_val = train_test_split(X_train, y_train, test_size=0.2, random_state=42)\n"
   ]
  },
  {
   "cell_type": "code",
   "execution_count": 189,
   "id": "ef35b720-86bf-41ec-bf18-641be9159f98",
   "metadata": {},
   "outputs": [],
   "source": [
    "# Reorder sparse matrices to avoid serialization issues\n",
    "X_train = X_train.sorted_indices()\n",
    "X_val = X_val.sorted_indices()\n",
    "\n",
    "# Build the neural network model\n",
    "model = models.Sequential()\n",
    "model.add(layers.InputLayer(input_shape=(X_train.shape[1],)))\n",
    "model.add(layers.Dense(128, activation='relu', kernel_regularizer=regularizers.l2(0.0001)))\n",
    "model.add(layers.Dropout(0.5))\n",
    "model.add(layers.Dense(64, activation='relu', kernel_regularizer=regularizers.l2(0.0001)))\n",
    "model.add(layers.Dropout(0.5))\n",
    "model.add(layers.Dense(32, activation='relu', kernel_regularizer=regularizers.l2(0.0001)))\n",
    "model.add(layers.Dropout(0.5))\n",
    "model.add(layers.Dense(1, activation='sigmoid'))\n",
    "\n",
    "# Compile the model\n",
    "model.compile(optimizer=keras.optimizers.Adamax(learning_rate=0.001),\n",
    "              loss='binary_crossentropy',\n",
    "              metrics=['accuracy'])\n"
   ]
  },
  {
   "cell_type": "code",
   "execution_count": 190,
   "id": "2e9dd44b-4197-4251-85b9-94328371eb29",
   "metadata": {},
   "outputs": [
    {
     "name": "stdout",
     "output_type": "stream",
     "text": [
      "Epoch 1/6\n",
      "40/40 [==============================] - 1s 29ms/step - loss: 0.7007 - accuracy: 0.6709 - val_loss: 0.6393 - val_accuracy: 0.8470\n",
      "Epoch 2/6\n",
      "40/40 [==============================] - 1s 27ms/step - loss: 0.5813 - accuracy: 0.8164 - val_loss: 0.4542 - val_accuracy: 0.8776\n",
      "Epoch 3/6\n",
      "40/40 [==============================] - 1s 31ms/step - loss: 0.4114 - accuracy: 0.8764 - val_loss: 0.3268 - val_accuracy: 0.8894\n",
      "Epoch 4/6\n",
      "40/40 [==============================] - 1s 28ms/step - loss: 0.3087 - accuracy: 0.9085 - val_loss: 0.2916 - val_accuracy: 0.8984\n",
      "Epoch 5/6\n",
      "40/40 [==============================] - 1s 32ms/step - loss: 0.2503 - accuracy: 0.9323 - val_loss: 0.2830 - val_accuracy: 0.9016\n",
      "Epoch 6/6\n",
      "40/40 [==============================] - 1s 28ms/step - loss: 0.2112 - accuracy: 0.9463 - val_loss: 0.2832 - val_accuracy: 0.9012\n"
     ]
    }
   ],
   "source": [
    "# Train the model\n",
    "history = model.fit(X_train, y_train,\n",
    "                    epochs=6,\n",
    "                    batch_size=512,\n",
    "                    validation_data=(X_val, y_val))"
   ]
  },
  {
   "cell_type": "code",
   "execution_count": 191,
   "id": "ab288329-b914-4e4e-9621-cb43161a82dd",
   "metadata": {},
   "outputs": [
    {
     "data": {
      "image/png": "[encoded data removed]",
      "text/plain": [
       "<Figure size 640x480 with 1 Axes>"
      ]
     },
     "metadata": {},
     "output_type": "display_data"
    }
   ],
   "source": [
    "# Plot the training and validation accuracy\n",
    "epochs = range(1, len(history.history['accuracy']) + 1)\n",
    "plt.plot(epochs, history.history['accuracy'], 'bo', label='Training accuracy')\n",
    "plt.plot(epochs, history.history['val_accuracy'], 'b', label='Validation accuracy')\n",
    "plt.title('Training and validation accuracy')\n",
    "plt.xlabel('Epochs')\n",
    "plt.ylabel('Accuracy')\n",
    "plt.legend()\n",
    "plt.show()\n",
    "\n"
   ]
  },
  {
   "cell_type": "code",
   "execution_count": 192,
   "id": "1a08dd8d-c987-4160-8b79-206adae4fc87",
   "metadata": {},
   "outputs": [
    {
     "name": "stdout",
     "output_type": "stream",
     "text": [
      "782/782 [==============================] - 1s 1ms/step - loss: 0.2852 - accuracy: 0.9002\n",
      "Test Accuracy: 0.9002\n"
     ]
    }
   ],
   "source": [
    "# Evaluate the model on the test set\n",
    "test_loss, test_acc = model.evaluate(X_test, y_test)\n",
    "print(f'Test Accuracy: {test_acc:.4f}')\n"
   ]
  },
  {
   "cell_type": "code",
   "execution_count": null,
   "id": "e04db785-fcf6-4d06-a8d7-80209cc9441d",
   "metadata": {},
   "outputs": [],
   "source": []
  }
 ],
 "metadata": {
  "kernelspec": {
   "display_name": "Python 3 (ipykernel)",
   "language": "python",
   "name": "python3"
  },
  "language_info": {
   "codemirror_mode": {
    "name": "ipython",
    "version": 3
   },
   "file_extension": ".py",
   "mimetype": "text/x-python",
   "name": "python",
   "nbconvert_exporter": "python",
   "pygments_lexer": "ipython3",
   "version": "3.10.13"
  }
 },
 "nbformat": 4,
 "nbformat_minor": 5
}
