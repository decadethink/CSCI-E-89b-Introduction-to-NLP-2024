{
 "cells": [
  {
   "cell_type": "code",
   "execution_count": 38,
   "id": "16caae80-e163-4e8b-b9b2-eaf9251f3134",
   "metadata": {},
   "outputs": [],
   "source": [
    "import tensorflow as tf\n",
    "import numpy as np\n",
    "from keras.datasets import imdb\n",
    "from keras.utils.data_utils import pad_sequences\n",
    "from keras.models import Model\n",
    "from keras.layers import Input, Embedding, LSTM, Dense, RepeatVector, TimeDistributed, Dropout\n",
    "from keras.layers import LSTM, Embedding, Dense, RepeatVector, TimeDistributed\n",
    "import matplotlib.pyplot as plt\n",
    "import random"
   ]
  },
  {
   "cell_type": "code",
   "execution_count": 39,
   "id": "00e171f2-6cca-4926-a2e7-96d2dbfb7ed8",
   "metadata": {},
   "outputs": [],
   "source": [
    "# Pad Sequences\n",
    "max_features = 10000  # Top 10,000 words\n",
    "maxlen = 200  # First 200 words of each review\n",
    "\n",
    "(X_train, y_train), (X_test, y_test) = imdb.load_data(num_words=max_features)\n",
    "X_train = pad_sequences(X_train, maxlen=maxlen)\n",
    "X_test = pad_sequences(X_test, maxlen=maxlen)"
   ]
  },
  {
   "cell_type": "code",
   "execution_count": 40,
   "id": "12fdeac4-2c77-4e55-958b-d0474b946701",
   "metadata": {},
   "outputs": [
    {
     "name": "stdout",
     "output_type": "stream",
     "text": [
      "Model: \"model_4\"\n",
      "_________________________________________________________________\n",
      " Layer (type)                Output Shape              Param #   \n",
      "=================================================================\n",
      " input_7 (InputLayer)        [(None, 200)]             0         \n",
      "                                                                 \n",
      " embedding_5 (Embedding)     (None, 200, 32)           320000    \n",
      "                                                                 \n",
      " lstm_7 (LSTM)               (None, 200, 32)           8320      \n",
      "                                                                 \n",
      " time_distributed_4 (TimeDis  (None, 200, 10000)       330000    \n",
      " tributed)                                                       \n",
      "                                                                 \n",
      "=================================================================\n",
      "Total params: 658,320\n",
      "Trainable params: 658,320\n",
      "Non-trainable params: 0\n",
      "_________________________________________________________________\n"
     ]
    }
   ],
   "source": [
    "embedding_dim = 32\n",
    "input_layer = Input(shape=(maxlen,))\n",
    "embedding_layer = Embedding(input_dim=max_features, output_dim=embedding_dim, input_length=maxlen)(input_layer)\n",
    "\n",
    "encoded = LSTM(32, return_sequences=True, activation='tanh')(embedding_layer)\n",
    "decoded = TimeDistributed(Dense(max_features, activation='softmax'))(encoded)\n",
    "\n",
    "autoencoder = Model(inputs=input_layer, outputs=decoded)\n",
    "autoencoder.compile(optimizer='adam', loss='sparse_categorical_crossentropy')\n",
    "\n",
    "autoencoder.summary()"
   ]
  },
  {
   "cell_type": "code",
   "execution_count": 41,
   "id": "48466dee-08d9-42ef-ab4a-e269c08c026e",
   "metadata": {},
   "outputs": [
    {
     "name": "stdout",
     "output_type": "stream",
     "text": [
      "Epoch 1/50\n",
      "313/313 [==============================] - 161s 514ms/step - loss: 6.1920 - val_loss: 5.0439\n",
      "Epoch 2/50\n",
      "313/313 [==============================] - 160s 513ms/step - loss: 4.7241 - val_loss: 4.5298\n",
      "Epoch 3/50\n",
      "313/313 [==============================] - 168s 536ms/step - loss: 4.3397 - val_loss: 4.1783\n",
      "Epoch 4/50\n",
      "313/313 [==============================] - 170s 545ms/step - loss: 3.9755 - val_loss: 3.8138\n",
      "Epoch 5/50\n",
      "313/313 [==============================] - 161s 514ms/step - loss: 3.6407 - val_loss: 3.4805\n",
      "Epoch 6/50\n",
      "313/313 [==============================] - 159s 507ms/step - loss: 3.2435 - val_loss: 3.0507\n",
      "Epoch 7/50\n",
      "313/313 [==============================] - 159s 510ms/step - loss: 2.8584 - val_loss: 2.7081\n",
      "Epoch 8/50\n",
      "313/313 [==============================] - 159s 509ms/step - loss: 2.5618 - val_loss: 2.4537\n",
      "Epoch 9/50\n",
      "313/313 [==============================] - 162s 518ms/step - loss: 2.3395 - val_loss: 2.2560\n",
      "Epoch 10/50\n",
      "313/313 [==============================] - 159s 508ms/step - loss: 2.1608 - val_loss: 2.0959\n",
      "Epoch 11/50\n",
      "313/313 [==============================] - 159s 508ms/step - loss: 2.0131 - val_loss: 1.9584\n",
      "Epoch 12/50\n",
      "313/313 [==============================] - 159s 508ms/step - loss: 1.8840 - val_loss: 1.8384\n",
      "Epoch 13/50\n",
      "313/313 [==============================] - 159s 509ms/step - loss: 1.7706 - val_loss: 1.7334\n",
      "Epoch 14/50\n",
      "313/313 [==============================] - 159s 507ms/step - loss: 1.6770 - val_loss: 1.6496\n",
      "Epoch 15/50\n",
      "313/313 [==============================] - 159s 508ms/step - loss: 1.5976 - val_loss: 1.5712\n",
      "Epoch 16/50\n",
      "313/313 [==============================] - 160s 512ms/step - loss: 1.5171 - val_loss: 1.4878\n",
      "Epoch 17/50\n",
      "313/313 [==============================] - 159s 508ms/step - loss: 1.4347 - val_loss: 1.4068\n",
      "Epoch 18/50\n",
      "313/313 [==============================] - 160s 511ms/step - loss: 1.3216 - val_loss: 1.2698\n",
      "Epoch 19/50\n",
      "313/313 [==============================] - 159s 509ms/step - loss: 1.1889 - val_loss: 1.1294\n",
      "Epoch 20/50\n",
      "313/313 [==============================] - 159s 508ms/step - loss: 1.0727 - val_loss: 1.0474\n",
      "Epoch 21/50\n",
      "313/313 [==============================] - 157s 501ms/step - loss: 0.9991 - val_loss: 0.9755\n",
      "Epoch 22/50\n",
      "313/313 [==============================] - 158s 502ms/step - loss: 0.9296 - val_loss: 0.9095\n",
      "Epoch 23/50\n",
      "313/313 [==============================] - 157s 500ms/step - loss: 0.8691 - val_loss: 0.8526\n",
      "Epoch 24/50\n",
      "313/313 [==============================] - 156s 500ms/step - loss: 0.8161 - val_loss: 0.8011\n",
      "Epoch 25/50\n",
      "313/313 [==============================] - 160s 512ms/step - loss: 0.7678 - val_loss: 0.7551\n",
      "Epoch 26/50\n",
      "313/313 [==============================] - 160s 510ms/step - loss: 0.7240 - val_loss: 0.7120\n",
      "Epoch 27/50\n",
      "313/313 [==============================] - 190s 606ms/step - loss: 0.6839 - val_loss: 0.6736\n",
      "Epoch 28/50\n",
      "313/313 [==============================] - 189s 603ms/step - loss: 0.6469 - val_loss: 0.6365\n",
      "Epoch 29/50\n",
      "313/313 [==============================] - 189s 603ms/step - loss: 0.6114 - val_loss: 0.6010\n",
      "Epoch 30/50\n",
      "313/313 [==============================] - 189s 603ms/step - loss: 0.5773 - val_loss: 0.5672\n",
      "Epoch 31/50\n",
      "313/313 [==============================] - 189s 603ms/step - loss: 0.5456 - val_loss: 0.5363\n",
      "Epoch 32/50\n",
      "313/313 [==============================] - 189s 604ms/step - loss: 0.5164 - val_loss: 0.5071\n",
      "Epoch 33/50\n",
      "313/313 [==============================] - 189s 604ms/step - loss: 0.4863 - val_loss: 0.4761\n",
      "Epoch 34/50\n",
      "313/313 [==============================] - 189s 604ms/step - loss: 0.4577 - val_loss: 0.4480\n",
      "Epoch 35/50\n",
      "313/313 [==============================] - 188s 600ms/step - loss: 0.4312 - val_loss: 0.4229\n",
      "Epoch 36/50\n",
      "313/313 [==============================] - 189s 603ms/step - loss: 0.4081 - val_loss: 0.4005\n",
      "Epoch 37/50\n",
      "313/313 [==============================] - 189s 603ms/step - loss: 0.3872 - val_loss: 0.3803\n",
      "Epoch 38/50\n",
      "313/313 [==============================] - 188s 601ms/step - loss: 0.3683 - val_loss: 0.3619\n",
      "Epoch 39/50\n",
      "313/313 [==============================] - 188s 602ms/step - loss: 0.3509 - val_loss: 0.3448\n",
      "Epoch 40/50\n",
      "313/313 [==============================] - 189s 603ms/step - loss: 0.3343 - val_loss: 0.3286\n",
      "Epoch 41/50\n",
      "313/313 [==============================] - 188s 601ms/step - loss: 0.3194 - val_loss: 0.3142\n",
      "Epoch 42/50\n",
      "313/313 [==============================] - 188s 601ms/step - loss: 0.3050 - val_loss: 0.2994\n",
      "Epoch 43/50\n",
      "313/313 [==============================] - 188s 601ms/step - loss: 0.2907 - val_loss: 0.2851\n",
      "Epoch 44/50\n",
      "313/313 [==============================] - 188s 602ms/step - loss: 0.2773 - val_loss: 0.2724\n",
      "Epoch 45/50\n",
      "313/313 [==============================] - 188s 601ms/step - loss: 0.2656 - val_loss: 0.2613\n",
      "Epoch 46/50\n",
      "313/313 [==============================] - 188s 601ms/step - loss: 0.2554 - val_loss: 0.2516\n",
      "Epoch 47/50\n",
      "313/313 [==============================] - 188s 601ms/step - loss: 0.2461 - val_loss: 0.2423\n",
      "Epoch 48/50\n",
      "313/313 [==============================] - 188s 602ms/step - loss: 0.2366 - val_loss: 0.2325\n",
      "Epoch 49/50\n",
      "313/313 [==============================] - 187s 599ms/step - loss: 0.2273 - val_loss: 0.2234\n",
      "Epoch 50/50\n",
      "313/313 [==============================] - 188s 601ms/step - loss: 0.2189 - val_loss: 0.2152\n"
     ]
    }
   ],
   "source": [
    "# Train the model\n",
    "history = autoencoder.fit(X_train, X_train, epochs=50, batch_size=64, validation_split=0.2)"
   ]
  },
  {
   "cell_type": "code",
   "execution_count": 42,
   "id": "d35438f3-a822-42b9-82cd-c731ac4c0c9c",
   "metadata": {},
   "outputs": [
    {
     "data": {
      "image/png": "[encoded data removed]",
      "text/plain": [
       "<Figure size 640x480 with 1 Axes>"
      ]
     },
     "metadata": {},
     "output_type": "display_data"
    }
   ],
   "source": [
    "# Plot Training and Validation Loss\n",
    "plt.plot(history.history['loss'], label='Training Loss')\n",
    "plt.plot(history.history['val_loss'], label='Validation Loss')\n",
    "plt.xlabel('Epochs')\n",
    "plt.ylabel('Loss')\n",
    "plt.legend()\n",
    "plt.title('Training and Validation Loss')\n",
    "plt.show()"
   ]
  },
  {
   "cell_type": "code",
   "execution_count": 44,
   "id": "d0afae10-151c-446a-a157-e40877a26fcc",
   "metadata": {},
   "outputs": [
    {
     "name": "stdout",
     "output_type": "stream",
     "text": [
      "1/1 [==============================] - 0s 13ms/step\n",
      "Original: during the summer the cue line for this attraction is really long since it is a water ride it's very well themed but a lot of the seem to be out of order overall the ride is not worth it if you have to wait for almost 2 in line the drop at the end is exciting but the whole ride itself could have been better creators for indiana jones could have helped these hollywood also many times the ride breaks down and causes even longer waiting periods for others it's also very when they only have one raft open and not the two like they are supposed to during halloween horror nights you ride in the dark and it's exciting if it's your first time but if it's not then don't bother waiting in a four hour line\n",
      "\n",
      "Reconstructed: during the summer the 'em line for this alas is really long since it is a water ride it's very well themed but a lot of the seem to be out of order top the ride is not worth it if you have to wait for almost 2 in line the drop at the end is exciting but the whole ride itself could have been better scripts for indiana jones could have roll these top also many times the ride visuals down and causes even longer waiting periods for top it's also very when they only have one raft working and not the two like they are top to during halloween horror nights you ride in the dark and it's exciting if it's your first time but if it's not then don't bother waiting in a four hour line\n",
      "\n",
      "1/1 [==============================] - 0s 12ms/step\n",
      "Original: this is another case of hollywood arrogance to french style the original was one of the most charming films of 1991 so naturally the in hollywood thought they could hire depardieu and phone the rest in they did however take the of hiring francis to write an english version albeit one virtually every word of the original depardieu brings his charm and shows all the promise that is now paying off the thing is that when the french make a sort of they get away with it because the french thinking works in their favour here the hollywood idea of lightweight subtlety is to have depardieu totally unaware that his daughter has let it be known he is actually her lover upon to play and song launch into a spirited version of thank heaven for little girls see the original\n",
      "\n",
      "Reconstructed: this is another case of top arrogance to french style the original was one of the most charming films of 1991 so naturally the in top thought they could hire depardieu and phone the top in they did however take the of hiring francis to write an english version albeit one ladies every word of the original depardieu brings his charm and shows all the promise that is now paying off the thing is that when the french make a fine of they get away with it because the french thinking works in their initially here the top idea of beers subtlety is to have depardieu top deniro that his daughter has let it be known he is actually her gem upon to play and song launch into a le version of thank heaven for little girls see the original\n",
      "\n",
      "1/1 [==============================] - 0s 12ms/step\n",
      "Original: i'm not a big tv person but when i saw the episode of greek i couldn't wait until next week i don't miss the show for nothing br br thank god for lol i'm in love with he acts like a bad boy but he is so sweet everybody has their own character so we have pretty much all types of people you could still throw in a hispanic and a persons br br i didn't go to school in usa so i never liked the idea of frat houses and stuff like that so when my husband told me about the show i didn't pay attention until he asked me to watch it and since i didn't have noting better to do i agreed i laughed so hard the first night that i just needed to keep watching it br br so i'm with the other people that voted for this show to continue on i will hope for a second third and who knows how many more episodes its a really good show very funny and entertaining\n",
      "\n",
      "Reconstructed: i'm not a big tv person but when i saw the episode of greek i top wait until next week i don't miss the show for nothing br br thank god for lol i'm in love with he acts like a bad boy but he is so sweet everybody has their own character so we have pretty much all types of people you could still throw in a hispanic and a mel br br i didn't go to school in usa so i never liked the idea of frat houses and fine like that so when my husband wouldn't me about the show i didn't feels attention until he allowed me to watch it and since i didn't have simultaneously better to do i conventional i laughed so hard the first night that i just needed to top watching it br br so i'm with the other people that voted for this show to continue on i will top for a second third and who note how many more episodes its a really good show very funny and top\n",
      "\n",
      "1/1 [==============================] - 0s 13ms/step\n",
      "Original: i carefully checked if there's another movie named as this one and there isn't but i really don't think we all saw the same movie there's no way how can you vote more than 1 for this movie the idea of this movie let's say it's acceptable oh and the acting of dan gordon chris is quite good but those are the only two things acceptable in this project the others are awful it's a very delicate word to describe the acting of the other actors the directing the so said special effects even the way that the crew was filming i don't even like the way that the camera were moving to record the scenes this may be the most miserable film i've ever seen i really don't remember a movie lower than this one maybe there is but i don't think so what's done it's done that's the movie and there's too late for anyone to change anything i've voted 1 but my realistic vote starts with a minus in front\n",
      "\n",
      "Reconstructed: i alas checked if there's another movie named as this one and there isn't but i really don't think we all saw the same movie there's no way how can you vote more than 1 for this movie the idea of this movie let's say it's acceptable oh and the acting of dan gordon chris is quite good but those are the only two things acceptable in this project the top are awful it's a very delicate word to gem the acting of the other actors the note the so top screen effects even the way that the using was cause i don't even like the way that the camera were moving to allowed the scenes this may be the most shut film i've ever seen i really don't remember a movie ladies than this one maybe there is but i don't think so what's done it's done that's the movie and there's too late for anyone to change anything i've voted 1 but my realistic vote starts with a minus in front\n",
      "\n",
      "1/1 [==============================] - 0s 12ms/step\n",
      "Original: just watched this on dvd three times once the way once with the scenes in order in this of a film noir the beginning middle and end of the story and once with the director's commentary running quite amazing a bare bones tale told with more flair energy and substance than most big budget overblown features being released today br br i think this is an even more accomplished film than the subsequent which turned me on to nolan in the first place can't wait to see what he does with a bigger budget and bigger box office stars in his next film insomnia\n",
      "\n",
      "Reconstructed: just watched this on dvd three times once the way once with the scenes in order in this of a film noir the top happen and end of the story and once with the director's commentary running quite amazing a receive bones tale wouldn't with more flair energy and substance than most big budget bedroom features being released today br br i think this is an even more accomplished film than the catchy which turned me on to nolan in the first place can't wait to see what he does with a bigger budget and bigger box office stars in his next film directorial\n",
      "\n"
     ]
    }
   ],
   "source": [
    "# Evaluate model on a few random test samples\n",
    "word_index = imdb.get_word_index()\n",
    "reverse_word_index = {value: key for key, value in word_index.items()}\n",
    "\n",
    "def decode_review(sequence):\n",
    "    return ' '.join([reverse_word_index.get(i - 3, '?') for i in sequence if i >= 3])\n",
    "\n",
    "# Select 5 random test samples\n",
    "random.seed(123)\n",
    "sample_indices = random.sample(range(len(X_test)), 5)\n",
    "\n",
    "for i in sample_indices:\n",
    "    original = decode_review(X_test[i])\n",
    "    \n",
    "    # Get model's predicted output (probabilities)\n",
    "    reconstructed = autoencoder.predict(np.array([X_test[i]]))\n",
    "    \n",
    "    # Take argmax over the vocabulary dimension (axis=-1)\n",
    "    reconstructed_seq = np.argmax(reconstructed, axis=-1)\n",
    "\n",
    "    # Decode the predicted word indices\n",
    "    reconstructed_text = decode_review(reconstructed_seq[0])\n",
    "    \n",
    "    print(f\"Original: {original}\")\n",
    "    print(f\"\\nReconstructed: {reconstructed_text}\\n\")\n"
   ]
  }
 ],
 "metadata": {
  "kernelspec": {
   "display_name": "Python 3 (ipykernel)",
   "language": "python",
   "name": "python3"
  },
  "language_info": {
   "codemirror_mode": {
    "name": "ipython",
    "version": 3
   },
   "file_extension": ".py",
   "mimetype": "text/x-python",
   "name": "python",
   "nbconvert_exporter": "python",
   "pygments_lexer": "ipython3",
   "version": "3.10.13"
  }
 },
 "nbformat": 4,
 "nbformat_minor": 5
}
